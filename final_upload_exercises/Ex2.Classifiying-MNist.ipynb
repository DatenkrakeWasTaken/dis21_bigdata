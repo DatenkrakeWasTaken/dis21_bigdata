{
 "cells": [
  {
   "cell_type": "markdown",
   "metadata": {},
   "source": [
    "<image src=\"https://www.th-koeln.de/img/logo.svg\">"
   ]
  },
  {
   "cell_type": "markdown",
   "metadata": {},
   "source": [
    "<img src=\"https://www.th-koeln.de/img/logo.svg\" style=\"float: right;\" width=\"200\">"
   ]
  },
  {
   "cell_type": "markdown",
   "metadata": {},
   "source": [
    "# 2nd exercise: <font color=\"#C70039\">Classifying the MNIST data set</font>\n",
    "* Course: DIS21a.1\n",
    "* Lecturer: <a href=\"https://www.gernotheisenberg.de/\">Gernot Heisenberg</a>\n",
    "* Author of notebook modifications and adaptations: <a href=\"https://www.gernotheisenberg.de/\">Gernot Heisenberg</a>\n",
    "* Student: Maximilian Pekarski\n",
    "* Matriculation number: 11120099\n",
    "* Date:   07.12.2022\n",
    "\n",
    "<img src=\"https://upload.wikimedia.org/wikipedia/commons/2/27/MnistExamples.png\" style=\"float: center;\" width=\"450\">\n",
    "\n",
    "---------------------------------\n",
    "**GENERAL NOTE 1**: \n",
    "Please make sure you are reading the entire notebook, since it contains a lot of information about your tasks (e.g. regarding the set of certain paramaters or specific computational tricks, etc.), and the written mark downs as well as comments contain a lot of information on how things work together as a whole. \n",
    "\n",
    "**GENERAL NOTE 2**: \n",
    "* Please, when commenting source code, just use English language only. \n",
    "* When describing an observation (for instance, after you have run through your test plan) you may use German language.\n",
    "This applies to all exercises in DIS 21a.1.  \n",
    "\n",
    "---------------------\n",
    "\n",
    "### <font color=\"ce33ff\">DESCRIPTION</font>:\n",
    "This notebook allows you for classifying the MNIST data set. That is an inbuild data set coming along with keras. Keras is using tensorflow in the backend.\n",
    "\n",
    "-------------------------------------------------------------------------------------------------------------\n",
    "\n",
    "### <font color=\"FFC300\">TASKS</font>:\n",
    "Within this notebook, the tasks that you need to work on are always listed as bullet points below. \n",
    "If a task is more challenging and consists of several steps, this is indicated as well. \n",
    "Make sure you have worked down the task list and commented your doings. \n",
    "This should be done using markdown.<br> \n",
    "<font color=red>Make sure you don't forget to specify your name and your matriculation number in the notebook before submitting it.</font>\n",
    "\n",
    "**YOUR TASKS in this exercise are as follows**:\n",
    "1. import the notebook to Google Colab.\n",
    "2. make sure you specified you name and your matriculation number in the header below my name and date. \n",
    "    * set the date too and remove mine.\n",
    "3. read the *entire* notebook carefully. \n",
    "    * add comments whereever you feel it necessary for better understanding\n",
    "    * run the notebook for the first time and note the result in a markdown table. \n",
    "        * I have provided you with an example of a table in markdown (see below). Make sure you adapt your table accordingly. \n",
    "        * Put the table at the end of the notebook. \n",
    "        * This type of table will be needed in the other exercises as well. Always put it at the end.\n",
    "    \n",
    "| type of method | loss function | optimizer | accuracy |\n",
    "| :-: | :-: | :-: | :-: |\n",
    "| classification | categorical_crossentropy | bamm !|.666\n",
    "\n",
    "4. do some tensor slicing on the training images as well as the labels.\n",
    "    * slice the first 100\n",
    "    * slice the last 13\n",
    "    * slice between 666 and 999\n",
    "    * slice one image at index '666' and slice the center part of that image \n",
    "        * visualize that image (original and sliced)\n",
    "5. take less training data and rerun the network.\n",
    "    * add the size of the <ins>training</ins> data as a column in the table and note the accuracy you achieve\n",
    "6. take less testing data and rerun the network.\n",
    "    * add the size of the <ins>testing</ins> data as a column in the table and note the accuracy you achieve\n",
    "7. increase/decrease the number of epochs and the batch size. \n",
    "    * add those hyperparameters as columns in the table and note down the accuracy you achieve\n",
    "8. make combinations of this (NOTE: what you are doing here is writing your own test plan, a big future task of yours once you became a data scientist. Make sure you combine with sense and intelligence and not just chaotically.).\n",
    "9. comment your observations.\n",
    "    * when is the accuracy increasing/decreasing?\n",
    "\n",
    "-----------------------------------------------------------------------------------\n",
    "\n"
   ]
  },
  {
   "cell_type": "markdown",
   "metadata": {},
   "source": [
    "\n",
    "## START OF THE NOTEBOOK CODE\n",
    "----------------------------------------------------------------------------------------------------------------------\n",
    "### necessary imports\n",
    "others are going to be included as soon as they are needed\n",
    "\n",
    "**GENERAL CODE REMARK**: the common way to import is: \"from keras.datasets import mnist\" (see below). \n",
    "However, this throws several warnings depending on the version of tensorflow you are trying to use. Sometimes this is not compatible.<br>\n",
    "However, by adding \"tensorflow.\" before \"keras.\" that warning is resolved.  \n",
    "This hack was found in a thread on stackoverflow, that is a valuable ressource for you too."
   ]
  },
  {
   "cell_type": "code",
   "execution_count": null,
   "metadata": {},
   "outputs": [],
   "source": [
    "from tensorflow.keras.datasets import mnist\n",
    "tensorflow.keras.__version__\n",
    "\n",
    "'''Original'''\n",
    "# from keras.datasets import mnist\n",
    "# if you are using Google Colab, this import line should work without causing any problems. \n",
    "# See general code remark above"
   ]
  },
  {
   "cell_type": "markdown",
   "metadata": {},
   "source": [
    "### loading the MNIST data set"
   ]
  },
  {
   "cell_type": "code",
   "execution_count": null,
   "metadata": {},
   "outputs": [],
   "source": [
    "(train_images, train_labels), (test_images, test_labels) = mnist.load_data()"
   ]
  },
  {
   "cell_type": "markdown",
   "metadata": {},
   "source": [
    "### print some shape of the training images and labels until you feel comfortable with the data set structure"
   ]
  },
  {
   "cell_type": "code",
   "execution_count": null,
   "metadata": {},
   "outputs": [],
   "source": [
    "train_images.shape"
   ]
  },
  {
   "cell_type": "code",
   "execution_count": null,
   "metadata": {},
   "outputs": [],
   "source": [
    "train_labels.shape"
   ]
  },
  {
   "cell_type": "code",
   "execution_count": null,
   "metadata": {},
   "outputs": [],
   "source": [
    "train_labels"
   ]
  },
  {
   "cell_type": "code",
   "execution_count": null,
   "metadata": {},
   "outputs": [],
   "source": [
    "len(test_labels)"
   ]
  },
  {
   "cell_type": "markdown",
   "metadata": {},
   "source": [
    "### more imports\n",
    "<font color=red>NOTE</font>: the original import was: \"from keras import models\" and \"layers\". However, this throws several warning. Adding \"tensorflow.\" before \"keras.\" solves this. // Found in a thread on stackoverflow."
   ]
  },
  {
   "cell_type": "code",
   "execution_count": null,
   "metadata": {},
   "outputs": [],
   "source": [
    "from tensorflow.keras import models\n",
    "from tensorflow.keras import layers"
   ]
  },
  {
   "cell_type": "markdown",
   "metadata": {},
   "source": [
    "### building the ANN\n",
    "* set the activation function to ReLu\n",
    "* define the shape of the input images\n",
    "* define the size of the output layer\n",
    "* define the size of the hidden, fully connected layer\n",
    "* define softmax as the probability function"
   ]
  },
  {
   "cell_type": "code",
   "execution_count": null,
   "metadata": {},
   "outputs": [],
   "source": [
    "network = models.Sequential()\n",
    "network.add(layers.Dense(512, activation='relu', input_shape=(28 * 28,)))\n",
    "network.add(layers.Dense(10, activation='softmax'))"
   ]
  },
  {
   "cell_type": "code",
   "execution_count": null,
   "metadata": {},
   "outputs": [],
   "source": [
    "network.compile(optimizer='rmsprop',loss='categorical_crossentropy',metrics=['accuracy'])"
   ]
  },
  {
   "cell_type": "markdown",
   "metadata": {},
   "source": [
    "### Prepare the image data and normalize them (/255 since they were 8Bit-encoded)"
   ]
  },
  {
   "cell_type": "code",
   "execution_count": null,
   "metadata": {},
   "outputs": [],
   "source": [
    "train_images = train_images.reshape((60000, 28 * 28))\n",
    "train_images = train_images.astype('float32') / 255\n",
    "\n",
    "test_images = test_images.reshape((10000, 28 * 28))\n",
    "test_images = test_images.astype('float32') / 255"
   ]
  },
  {
   "cell_type": "markdown",
   "metadata": {},
   "source": [
    "### categorical encoding of the labels is needed"
   ]
  },
  {
   "cell_type": "code",
   "execution_count": null,
   "metadata": {},
   "outputs": [],
   "source": [
    "from tensorflow.keras.utils import to_categorical\n",
    "\n",
    "train_labels = to_categorical(train_labels)\n",
    "test_labels = to_categorical(test_labels)"
   ]
  },
  {
   "cell_type": "code",
   "execution_count": null,
   "metadata": {},
   "outputs": [],
   "source": [
    "network.fit(train_images, train_labels, epochs=5, batch_size=128)"
   ]
  },
  {
   "cell_type": "code",
   "execution_count": null,
   "metadata": {},
   "outputs": [],
   "source": [
    "test_loss, test_acc = network.evaluate(test_images, test_labels)"
   ]
  },
  {
   "cell_type": "code",
   "execution_count": null,
   "metadata": {},
   "outputs": [],
   "source": [
    "print('test_acc:', test_acc)"
   ]
  },
  {
   "cell_type": "markdown",
   "metadata": {},
   "source": [
    "That's the final accuracy result for the classification of the test data set. "
   ]
  },
  {
   "cell_type": "markdown",
   "metadata": {},
   "source": [
    "### <font color=\"#C70039\">Include your result table here and reflect a good test plan (see task list)</font>"
   ]
  },
  {
   "cell_type": "code",
   "execution_count": 33,
   "metadata": {},
   "outputs": [],
   "source": [
    "from tensorflow.keras.datasets import mnist\n",
    "from tensorflow.keras import models\n",
    "from tensorflow.keras import layers\n",
    "import matplotlib.pyplot as plt\n",
    "from tensorflow.keras.utils import to_categorical"
   ]
  },
  {
   "cell_type": "code",
   "execution_count": 3,
   "metadata": {},
   "outputs": [
    {
     "name": "stdout",
     "output_type": "stream",
     "text": [
      "Downloading data from https://storage.googleapis.com/tensorflow/tf-keras-datasets/mnist.npz\n",
      "11490434/11490434 [==============================] - 0s 0us/step\n"
     ]
    }
   ],
   "source": [
    "(train_images, train_labels), (test_images, test_labels) = mnist.load_data()"
   ]
  },
  {
   "cell_type": "markdown",
   "metadata": {},
   "source": [
    "### task 4"
   ]
  },
  {
   "cell_type": "code",
   "execution_count": 15,
   "metadata": {},
   "outputs": [],
   "source": [
    "first_100 = train_images[:100]\n",
    "last_13 = train_images[-14:-1]\n",
    "middle_333 = train_images[666:999]\n",
    "satan = train_images[666]"
   ]
  },
  {
   "cell_type": "code",
   "execution_count": 18,
   "metadata": {},
   "outputs": [
    {
     "data": {
      "image/png": "[encoded data removed]",
      "text/plain": [
       "<Figure size 640x480 with 1 Axes>"
      ]
     },
     "metadata": {},
     "output_type": "display_data"
    }
   ],
   "source": [
    "plt.imshow(satan, cmap=plt.cm.binary)\n",
    "plt.show()"
   ]
  },
  {
   "cell_type": "code",
   "execution_count": 29,
   "metadata": {},
   "outputs": [
    {
     "data": {
      "image/png": "[encoded data removed]",
      "text/plain": [
       "<Figure size 640x480 with 1 Axes>"
      ]
     },
     "metadata": {},
     "output_type": "display_data"
    }
   ],
   "source": [
    "satan_sliced = satan[7:21, 7:21]\n",
    "plt.imshow(satan_sliced, cmap=plt.cm.binary)\n",
    "plt.show()"
   ]
  },
  {
   "cell_type": "markdown",
   "metadata": {},
   "source": [
    "### task 5"
   ]
  },
  {
   "cell_type": "code",
   "execution_count": 72,
   "metadata": {},
   "outputs": [],
   "source": [
    "def run_network(training_size=60000, testing_size=10000, epochs_num = 5, batch_size_num = 128):\n",
    "    \n",
    "    network = models.Sequential()\n",
    "    network.add(layers.Dense(512, activation='relu', input_shape=(28 * 28,)))\n",
    "    network.add(layers.Dense(10, activation='softmax'))\n",
    "    \n",
    "    network.compile(optimizer='rmsprop',loss='categorical_crossentropy',metrics=['accuracy'])\n",
    "    \n",
    "    (train_images, train_labels), (test_images, test_labels) = mnist.load_data()\n",
    "    train_images = train_images[:training_size]\n",
    "    train_labels = train_labels[:training_size]\n",
    "    \n",
    "    test_images = test_images[:testing_size]\n",
    "    test_labels = test_labels[:testing_size]\n",
    "\n",
    "    train_images = train_images.reshape((training_size, 28 * 28))\n",
    "    train_images = train_images.astype('float32') / 255\n",
    "\n",
    "    test_images = test_images.reshape((testing_size, 28 * 28))\n",
    "    test_images = test_images.astype('float32') / 255\n",
    "    \n",
    "    train_labels = to_categorical(train_labels)\n",
    "    test_labels = to_categorical(test_labels)\n",
    "    \n",
    "    network.fit(train_images, train_labels, epochs=epochs_num, batch_size=batch_size_num)\n",
    "    \n",
    "    return network, test_images, test_labels\n",
    "    "
   ]
  },
  {
   "cell_type": "code",
   "execution_count": 66,
   "metadata": {},
   "outputs": [
    {
     "name": "stdout",
     "output_type": "stream",
     "text": [
      "Epoch 1/5\n"
     ]
    },
    {
     "name": "stderr",
     "output_type": "stream",
     "text": [
      "2022-12-07 16:21:32.223844: W tensorflow/tsl/framework/cpu_allocator_impl.cc:82] Allocation of 188160000 exceeds 10% of free system memory.\n"
     ]
    },
    {
     "name": "stdout",
     "output_type": "stream",
     "text": [
      "469/469 [==============================] - 4s 8ms/step - loss: 0.2624 - accuracy: 0.9242\n",
      "Epoch 2/5\n",
      "469/469 [==============================] - 4s 8ms/step - loss: 0.1066 - accuracy: 0.9687\n",
      "Epoch 3/5\n",
      "469/469 [==============================] - 4s 8ms/step - loss: 0.0702 - accuracy: 0.9785\n",
      "Epoch 4/5\n",
      "469/469 [==============================] - 4s 8ms/step - loss: 0.0500 - accuracy: 0.9846\n",
      "Epoch 5/5\n",
      "469/469 [==============================] - 4s 8ms/step - loss: 0.0375 - accuracy: 0.9893\n",
      "313/313 [==============================] - 1s 2ms/step - loss: 0.0605 - accuracy: 0.9804\n"
     ]
    }
   ],
   "source": [
    "network, test_images, test_labels = run_network()\n",
    "test_loss, test_acc = network.evaluate(test_images, test_labels)"
   ]
  },
  {
   "cell_type": "code",
   "execution_count": 68,
   "metadata": {},
   "outputs": [
    {
     "name": "stdout",
     "output_type": "stream",
     "text": [
      "Epoch 1/5\n"
     ]
    },
    {
     "name": "stderr",
     "output_type": "stream",
     "text": [
      "2022-12-07 16:23:09.767701: W tensorflow/tsl/framework/cpu_allocator_impl.cc:82] Allocation of 125440000 exceeds 10% of free system memory.\n"
     ]
    },
    {
     "name": "stdout",
     "output_type": "stream",
     "text": [
      "313/313 [==============================] - 3s 8ms/step - loss: 0.3150 - accuracy: 0.9101\n",
      "Epoch 2/5\n",
      "313/313 [==============================] - 3s 8ms/step - loss: 0.1313 - accuracy: 0.9610\n",
      "Epoch 3/5\n",
      "313/313 [==============================] - 3s 8ms/step - loss: 0.0854 - accuracy: 0.9752\n",
      "Epoch 4/5\n",
      "313/313 [==============================] - 2s 8ms/step - loss: 0.0611 - accuracy: 0.9826\n",
      "Epoch 5/5\n",
      "313/313 [==============================] - 3s 8ms/step - loss: 0.0462 - accuracy: 0.9866\n",
      "313/313 [==============================] - 1s 3ms/step - loss: 0.0746 - accuracy: 0.9778\n"
     ]
    }
   ],
   "source": [
    "network, test_images, test_labels = run_network(40000, 10000)\n",
    "test_loss, test_acc = network.evaluate(test_images, test_labels)"
   ]
  },
  {
   "cell_type": "markdown",
   "metadata": {},
   "source": [
    "#### task 6"
   ]
  },
  {
   "cell_type": "code",
   "execution_count": 69,
   "metadata": {},
   "outputs": [
    {
     "name": "stdout",
     "output_type": "stream",
     "text": [
      "Epoch 1/5\n",
      "469/469 [==============================] - 4s 8ms/step - loss: 0.2614 - accuracy: 0.9240\n",
      "Epoch 2/5\n",
      "469/469 [==============================] - 4s 9ms/step - loss: 0.1053 - accuracy: 0.9692\n",
      "Epoch 3/5\n",
      "469/469 [==============================] - 4s 8ms/step - loss: 0.0699 - accuracy: 0.9796\n",
      "Epoch 4/5\n",
      "469/469 [==============================] - 4s 8ms/step - loss: 0.0519 - accuracy: 0.9842\n",
      "Epoch 5/5\n",
      "469/469 [==============================] - 4s 8ms/step - loss: 0.0383 - accuracy: 0.9885\n",
      "313/313 [==============================] - 1s 2ms/step - loss: 0.0651 - accuracy: 0.9791\n"
     ]
    }
   ],
   "source": [
    "network, test_images, test_labels = run_network(60000, 8000)\n",
    "test_loss, test_acc = network.evaluate(test_images, test_labels)"
   ]
  },
  {
   "cell_type": "markdown",
   "metadata": {},
   "source": [
    "### task 7"
   ]
  },
  {
   "cell_type": "code",
   "execution_count": 73,
   "metadata": {},
   "outputs": [
    {
     "name": "stdout",
     "output_type": "stream",
     "text": [
      "Epoch 1/8\n",
      "235/235 [==============================] - 3s 9ms/step - loss: 0.3263 - accuracy: 0.9081\n",
      "Epoch 2/8\n",
      "235/235 [==============================] - 2s 9ms/step - loss: 0.1391 - accuracy: 0.9601\n",
      "Epoch 3/8\n",
      "235/235 [==============================] - 2s 9ms/step - loss: 0.0938 - accuracy: 0.9729\n",
      "Epoch 4/8\n",
      "235/235 [==============================] - 2s 9ms/step - loss: 0.0689 - accuracy: 0.9799\n",
      "Epoch 5/8\n",
      "235/235 [==============================] - 2s 9ms/step - loss: 0.0542 - accuracy: 0.9841\n",
      "Epoch 6/8\n",
      "235/235 [==============================] - 2s 9ms/step - loss: 0.0425 - accuracy: 0.9875\n",
      "Epoch 7/8\n",
      "235/235 [==============================] - 2s 9ms/step - loss: 0.0341 - accuracy: 0.9902\n",
      "Epoch 8/8\n",
      "235/235 [==============================] - 2s 9ms/step - loss: 0.0273 - accuracy: 0.9926\n",
      "313/313 [==============================] - 1s 2ms/step - loss: 0.0631 - accuracy: 0.9817\n"
     ]
    }
   ],
   "source": [
    "network, test_images, test_labels = run_network(60000, 10000, 8, 256)\n",
    "test_loss, test_acc = network.evaluate(test_images, test_labels)"
   ]
  },
  {
   "cell_type": "markdown",
   "metadata": {},
   "source": [
    "### task 8"
   ]
  },
  {
   "cell_type": "code",
   "execution_count": 74,
   "metadata": {},
   "outputs": [
    {
     "name": "stdout",
     "output_type": "stream",
     "text": [
      "Epoch 1/20\n",
      "40/40 [==============================] - 1s 9ms/step - loss: 0.6532 - accuracy: 0.8336\n",
      "Epoch 2/20\n",
      "40/40 [==============================] - 0s 9ms/step - loss: 0.3066 - accuracy: 0.9133\n",
      "Epoch 3/20\n",
      "40/40 [==============================] - 0s 9ms/step - loss: 0.2394 - accuracy: 0.9345\n",
      "Epoch 4/20\n",
      "40/40 [==============================] - 0s 9ms/step - loss: 0.1941 - accuracy: 0.9449\n",
      "Epoch 5/20\n",
      "40/40 [==============================] - 0s 9ms/step - loss: 0.1597 - accuracy: 0.9541\n",
      "Epoch 6/20\n",
      "40/40 [==============================] - 0s 12ms/step - loss: 0.1349 - accuracy: 0.9624\n",
      "Epoch 7/20\n",
      "40/40 [==============================] - 0s 10ms/step - loss: 0.1122 - accuracy: 0.9697\n",
      "Epoch 8/20\n",
      "40/40 [==============================] - 0s 10ms/step - loss: 0.0964 - accuracy: 0.9745\n",
      "Epoch 9/20\n",
      "40/40 [==============================] - 0s 10ms/step - loss: 0.0800 - accuracy: 0.9799\n",
      "Epoch 10/20\n",
      "40/40 [==============================] - 0s 10ms/step - loss: 0.0701 - accuracy: 0.9817\n",
      "Epoch 11/20\n",
      "40/40 [==============================] - 0s 10ms/step - loss: 0.0591 - accuracy: 0.9864\n",
      "Epoch 12/20\n",
      "40/40 [==============================] - 0s 12ms/step - loss: 0.0477 - accuracy: 0.9900\n",
      "Epoch 13/20\n",
      "40/40 [==============================] - 0s 10ms/step - loss: 0.0434 - accuracy: 0.9903\n",
      "Epoch 14/20\n",
      "40/40 [==============================] - 0s 10ms/step - loss: 0.0360 - accuracy: 0.9925\n",
      "Epoch 15/20\n",
      "40/40 [==============================] - 0s 10ms/step - loss: 0.0291 - accuracy: 0.9951\n",
      "Epoch 16/20\n",
      "40/40 [==============================] - 0s 9ms/step - loss: 0.0252 - accuracy: 0.9951\n",
      "Epoch 17/20\n",
      "40/40 [==============================] - 0s 9ms/step - loss: 0.0209 - accuracy: 0.9969\n",
      "Epoch 18/20\n",
      "40/40 [==============================] - 0s 9ms/step - loss: 0.0168 - accuracy: 0.9980\n",
      "Epoch 19/20\n",
      "40/40 [==============================] - 0s 9ms/step - loss: 0.0141 - accuracy: 0.9987\n",
      "Epoch 20/20\n",
      "40/40 [==============================] - 0s 9ms/step - loss: 0.0113 - accuracy: 0.9994\n",
      "313/313 [==============================] - 1s 2ms/step - loss: 0.1592 - accuracy: 0.9567\n"
     ]
    }
   ],
   "source": [
    "network, test_images, test_labels = run_network(10000, 10000, 20, 256)\n",
    "test_loss, test_acc = network.evaluate(test_images, test_labels)"
   ]
  },
  {
   "cell_type": "code",
   "execution_count": 75,
   "metadata": {},
   "outputs": [
    {
     "name": "stdout",
     "output_type": "stream",
     "text": [
      "Epoch 1/10\n",
      "235/235 [==============================] - 3s 9ms/step - loss: 0.3252 - accuracy: 0.9060\n",
      "Epoch 2/10\n",
      "235/235 [==============================] - 2s 10ms/step - loss: 0.1372 - accuracy: 0.9603\n",
      "Epoch 3/10\n",
      "235/235 [==============================] - 2s 7ms/step - loss: 0.0912 - accuracy: 0.9735\n",
      "Epoch 4/10\n",
      "235/235 [==============================] - 2s 9ms/step - loss: 0.0668 - accuracy: 0.9809\n",
      "Epoch 5/10\n",
      "235/235 [==============================] - 2s 9ms/step - loss: 0.0521 - accuracy: 0.9850\n",
      "Epoch 6/10\n",
      "235/235 [==============================] - 2s 8ms/step - loss: 0.0414 - accuracy: 0.9880\n",
      "Epoch 7/10\n",
      "235/235 [==============================] - 2s 9ms/step - loss: 0.0327 - accuracy: 0.9910\n",
      "Epoch 8/10\n",
      "235/235 [==============================] - 2s 9ms/step - loss: 0.0262 - accuracy: 0.9931\n",
      "Epoch 9/10\n",
      "235/235 [==============================] - 2s 9ms/step - loss: 0.0212 - accuracy: 0.9946\n",
      "Epoch 10/10\n",
      "235/235 [==============================] - 2s 9ms/step - loss: 0.0167 - accuracy: 0.9962\n",
      "313/313 [==============================] - 1s 2ms/step - loss: 0.0616 - accuracy: 0.9801\n"
     ]
    }
   ],
   "source": [
    "network, test_images, test_labels = run_network(60000, 1000, 10, 256)\n",
    "test_loss, test_acc = network.evaluate(test_images, test_labels)"
   ]
  },
  {
   "cell_type": "code",
   "execution_count": 76,
   "metadata": {},
   "outputs": [
    {
     "name": "stdout",
     "output_type": "stream",
     "text": [
      "Epoch 1/3\n",
      "938/938 [==============================] - 7s 7ms/step - loss: 0.2258 - accuracy: 0.9336\n",
      "Epoch 2/3\n",
      "938/938 [==============================] - 6s 7ms/step - loss: 0.0910 - accuracy: 0.9724\n",
      "Epoch 3/3\n",
      "938/938 [==============================] - 6s 7ms/step - loss: 0.0606 - accuracy: 0.9813\n",
      "313/313 [==============================] - 1s 2ms/step - loss: 0.0688 - accuracy: 0.9787\n"
     ]
    }
   ],
   "source": [
    "network, test_images, test_labels = run_network(60000, 10000, 3, 64)\n",
    "test_loss, test_acc = network.evaluate(test_images, test_labels)"
   ]
  },
  {
   "cell_type": "markdown",
   "metadata": {},
   "source": [
    "### task 9"
   ]
  },
  {
   "cell_type": "markdown",
   "metadata": {},
   "source": [
    "The accuracy seems to go down, when the training size is decreased and the epoch size is increased beyond a certain threshhold. This is due to overfitting. The accuracy can increase and decrease when the testing size is decreased, although this doesn't affect the network itself. This is dependant on if the removed test data improved or worsened the accuracy."
   ]
  },
  {
   "cell_type": "markdown",
   "metadata": {},
   "source": [
    "| type of method | loss function | optimizer | accuracy | training size | testing size | epochs | batch size\n",
    "| :-: | :-: | :-: | :-: | :-: | :-: | :-: | :-: |\n",
    "| classification | categorical_crossentropy | rmsprop |.9804 | 60000 | 10000 | 5 | 128\n",
    "| classification | categorical_crossentropy | rmsprop |.9778 | 40000 | 10000 | 5 | 128\n",
    "| classification | categorical_crossentropy | rmsprop |.9639 | 60000 | 8000 | 5 | 128\n",
    "| classification | categorical_crossentropy | rmsprop |.9817 | 60000 | 10000 | 8 | 256\n",
    "| classification | categorical_crossentropy | rmsprop |.9567 | 10000 | 10000 | 20 | 256\n",
    "| classification | categorical_crossentropy | rmsprop |.9801 | 60000 | 1000 | 10 | 256\n",
    "| classification | categorical_crossentropy | rmsprop |.9787 | 60000 | 10000 | 3 | 64"
   ]
  },
  {
   "cell_type": "markdown",
   "metadata": {},
   "source": []
  }
 ],
 "metadata": {
  "kernelspec": {
   "display_name": "dis21",
   "language": "python",
   "name": "python3"
  },
  "language_info": {
   "codemirror_mode": {
    "name": "ipython",
    "version": 3
   },
   "file_extension": ".py",
   "mimetype": "text/x-python",
   "name": "python",
   "nbconvert_exporter": "python",
   "pygments_lexer": "ipython3",
   "version": "3.10.8 | packaged by conda-forge | (main, Nov 22 2022, 08:16:53) [MSC v.1929 64 bit (AMD64)]"
  },
  "vscode": {
   "interpreter": {
    "hash": "68979083f5533ab07c6381a6af88c3a9d7740bc097ecb5b6319ee072e726248a"
   }
  }
 },
 "nbformat": 4,
 "nbformat_minor": 2
}
